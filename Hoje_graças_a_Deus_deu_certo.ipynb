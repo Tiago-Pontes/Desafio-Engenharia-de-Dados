{
  "cells": [
    {
      "cell_type": "markdown",
      "metadata": {
        "id": "view-in-github",
        "colab_type": "text"
      },
      "source": [
        "<a href=\"https://colab.research.google.com/github/Tiago-Pontes/Desafio-Engenharia-de-Dados/blob/main/Hoje_gra%C3%A7as_a_Deus_deu_certo.ipynb\" target=\"_parent\"><img src=\"https://colab.research.google.com/assets/colab-badge.svg\" alt=\"Open In Colab\"/></a>"
      ]
    },
    {
      "cell_type": "markdown",
      "source": [
        "*Instalando a  biblioteca gdown*"
      ],
      "metadata": {
        "id": "8PynGTdcPNoP"
      },
      "id": "8PynGTdcPNoP"
    },
    {
      "cell_type": "code",
      "execution_count": 1,
      "metadata": {
        "id": "XNQlGAkGlB5r",
        "colab": {
          "base_uri": "https://localhost:8080/"
        },
        "outputId": "6f613c77-1a9d-4705-e90f-cb2803915a16"
      },
      "outputs": [
        {
          "output_type": "stream",
          "name": "stdout",
          "text": [
            "Requirement already satisfied: gdown in /usr/local/lib/python3.7/dist-packages (4.4.0)\n",
            "Requirement already satisfied: requests[socks] in /usr/local/lib/python3.7/dist-packages (from gdown) (2.23.0)\n",
            "Requirement already satisfied: six in /usr/local/lib/python3.7/dist-packages (from gdown) (1.15.0)\n",
            "Requirement already satisfied: beautifulsoup4 in /usr/local/lib/python3.7/dist-packages (from gdown) (4.6.3)\n",
            "Requirement already satisfied: filelock in /usr/local/lib/python3.7/dist-packages (from gdown) (3.6.0)\n",
            "Requirement already satisfied: tqdm in /usr/local/lib/python3.7/dist-packages (from gdown) (4.64.0)\n",
            "Requirement already satisfied: certifi>=2017.4.17 in /usr/local/lib/python3.7/dist-packages (from requests[socks]->gdown) (2021.10.8)\n",
            "Requirement already satisfied: chardet<4,>=3.0.2 in /usr/local/lib/python3.7/dist-packages (from requests[socks]->gdown) (3.0.4)\n",
            "Requirement already satisfied: urllib3!=1.25.0,!=1.25.1,<1.26,>=1.21.1 in /usr/local/lib/python3.7/dist-packages (from requests[socks]->gdown) (1.24.3)\n",
            "Requirement already satisfied: idna<3,>=2.5 in /usr/local/lib/python3.7/dist-packages (from requests[socks]->gdown) (2.10)\n",
            "Requirement already satisfied: PySocks!=1.5.7,>=1.5.6 in /usr/local/lib/python3.7/dist-packages (from requests[socks]->gdown) (1.7.1)\n",
            "Requirement already satisfied: gdown in /usr/local/lib/python3.7/dist-packages (4.4.0)\n",
            "Requirement already satisfied: tqdm in /usr/local/lib/python3.7/dist-packages (from gdown) (4.64.0)\n",
            "Requirement already satisfied: requests[socks] in /usr/local/lib/python3.7/dist-packages (from gdown) (2.23.0)\n",
            "Requirement already satisfied: filelock in /usr/local/lib/python3.7/dist-packages (from gdown) (3.6.0)\n",
            "Requirement already satisfied: six in /usr/local/lib/python3.7/dist-packages (from gdown) (1.15.0)\n",
            "Requirement already satisfied: beautifulsoup4 in /usr/local/lib/python3.7/dist-packages (from gdown) (4.6.3)\n",
            "Requirement already satisfied: urllib3!=1.25.0,!=1.25.1,<1.26,>=1.21.1 in /usr/local/lib/python3.7/dist-packages (from requests[socks]->gdown) (1.24.3)\n",
            "Requirement already satisfied: certifi>=2017.4.17 in /usr/local/lib/python3.7/dist-packages (from requests[socks]->gdown) (2021.10.8)\n",
            "Requirement already satisfied: idna<3,>=2.5 in /usr/local/lib/python3.7/dist-packages (from requests[socks]->gdown) (2.10)\n",
            "Requirement already satisfied: chardet<4,>=3.0.2 in /usr/local/lib/python3.7/dist-packages (from requests[socks]->gdown) (3.0.4)\n",
            "Requirement already satisfied: PySocks!=1.5.7,>=1.5.6 in /usr/local/lib/python3.7/dist-packages (from requests[socks]->gdown) (1.7.1)\n"
          ]
        }
      ],
      "source": [
        "!pip install gdown\n",
        "!pip install --upgrade --no-cache-dir gdown"
      ],
      "id": "XNQlGAkGlB5r"
    },
    {
      "cell_type": "markdown",
      "source": [
        "*Importando as  bibliotecas gdown e pandas*"
      ],
      "metadata": {
        "id": "2NxVYn5lPiKF"
      },
      "id": "2NxVYn5lPiKF"
    },
    {
      "cell_type": "code",
      "execution_count": 2,
      "metadata": {
        "id": "i02tvr_MOFlt"
      },
      "outputs": [],
      "source": [
        "import gdown\n",
        "import pandas as pd"
      ],
      "id": "i02tvr_MOFlt"
    },
    {
      "cell_type": "markdown",
      "source": [
        "*Download com os ids direto para a VM*"
      ],
      "metadata": {
        "id": "uVktWg7SP2Jh"
      },
      "id": "uVktWg7SP2Jh"
    },
    {
      "cell_type": "code",
      "execution_count": 3,
      "metadata": {
        "id": "u-aVZ2pl2Lsi",
        "colab": {
          "base_uri": "https://localhost:8080/"
        },
        "outputId": "ace8622d-6367-4d52-873f-0f14c12ec001"
      },
      "outputs": [
        {
          "output_type": "stream",
          "name": "stdout",
          "text": [
            "/usr/local/lib/python3.7/dist-packages/gdown/cli.py:131: FutureWarning: Option `--id` was deprecated in version 4.3.1 and will be removed in 5.0. You don't need to pass it anymore to use a file ID.\n",
            "  category=FutureWarning,\n",
            "Downloading...\n",
            "From: https://drive.google.com/uc?id=1C_T1w8fc7Oa8MeTo4LMTEcv90IfEOS-6\n",
            "To: /content/customers_rating.csv\n",
            "100% 658M/658M [00:05<00:00, 113MB/s] \n"
          ]
        }
      ],
      "source": [
        "!gdown --id 1C_T1w8fc7Oa8MeTo4LMTEcv90IfEOS-6"
      ],
      "id": "u-aVZ2pl2Lsi"
    },
    {
      "cell_type": "code",
      "execution_count": 4,
      "metadata": {
        "id": "3Vgdqr_OBbQd",
        "colab": {
          "base_uri": "https://localhost:8080/"
        },
        "outputId": "97961629-a46c-4c03-8672-01d4fbde7df3"
      },
      "outputs": [
        {
          "output_type": "stream",
          "name": "stdout",
          "text": [
            "/usr/local/lib/python3.7/dist-packages/gdown/cli.py:131: FutureWarning: Option `--id` was deprecated in version 4.3.1 and will be removed in 5.0. You don't need to pass it anymore to use a file ID.\n",
            "  category=FutureWarning,\n",
            "Downloading...\n",
            "From: https://drive.google.com/uc?id=1gLsCjaMrL91ECdThq58cZAzB9tPxG18g\n",
            "To: /content/movies.csv\n",
            "100% 160k/160k [00:00<00:00, 73.6MB/s]\n"
          ]
        }
      ],
      "source": [
        "!gdown --id 1gLsCjaMrL91ECdThq58cZAzB9tPxG18g"
      ],
      "id": "3Vgdqr_OBbQd"
    },
    {
      "cell_type": "markdown",
      "source": [
        "*Criando os DataFrames*"
      ],
      "metadata": {
        "id": "IjvRVLttQMwv"
      },
      "id": "IjvRVLttQMwv"
    },
    {
      "cell_type": "code",
      "execution_count": 5,
      "metadata": {
        "id": "e9ac923c"
      },
      "outputs": [],
      "source": [
        "# Inserindo nome nas colunas do arquivo 'movies.csv'\n",
        "column_names = ['Movie_Id', 'Movie_Year'] \n",
        "\n",
        "# Váriavel base_1 lendo em csv apartir do drive, com separação em \";\", codificado em \"UTF-8\", sem cabeçalho, acrescentando nome as colunas.\n",
        "base_1 = pd.read_csv(\"movies.csv\", sep = ';',encoding = \"UTF-8\", header = None, names = column_names)"
      ],
      "id": "e9ac923c"
    },
    {
      "cell_type": "code",
      "execution_count": 6,
      "metadata": {
        "id": "WxNFSez9DYFL"
      },
      "outputs": [],
      "source": [
        "# Váriavel base_2 lendo o csv apartir do drive, com separação em \";\", codificado em \"UTF-8\".\n",
        "base_2 = pd.read_csv(\"customers_rating.csv\", sep = ';',encoding = \"UTF-8\")"
      ],
      "id": "WxNFSez9DYFL"
    },
    {
      "cell_type": "markdown",
      "source": [
        "*1.1. Quantos filmes estão disponíveis no dataset?*"
      ],
      "metadata": {
        "id": "-0apdEiYZ3ec"
      },
      "id": "-0apdEiYZ3ec"
    },
    {
      "cell_type": "code",
      "execution_count": 7,
      "metadata": {
        "id": "98d88510",
        "colab": {
          "base_uri": "https://localhost:8080/"
        },
        "outputId": "9c7f4b59-0014-475e-dce1-057a6f547e1c"
      },
      "outputs": [
        {
          "output_type": "stream",
          "name": "stdout",
          "text": [
            "No dataset estão disponiveis 4499 filmes.\n"
          ]
        }
      ],
      "source": [
        "# Variável 'contag' a partir de base_1 contando as linhas da coluna 'Movie_Id'.\n",
        "filmes_disp = base_1['Movie_Id'].count() \n",
        "print ('No dataset estão disponiveis {}' .format(filmes_disp),'filmes.')"
      ],
      "id": "98d88510"
    },
    {
      "cell_type": "markdown",
      "source": [
        "---"
      ],
      "metadata": {
        "id": "bmHZZs4untKl"
      },
      "id": "bmHZZs4untKl"
    },
    {
      "cell_type": "markdown",
      "source": [
        "*1.2. Qual é o nome dos 5 filmes com melhor média de avaliação?*"
      ],
      "metadata": {
        "id": "mAZtsi1datby"
      },
      "id": "mAZtsi1datby"
    },
    {
      "cell_type": "code",
      "execution_count": 8,
      "metadata": {
        "id": "9acc1a6c"
      },
      "outputs": [],
      "source": [
        "# Na variável media partindo da base_2, com agrupamento das colunas escolhidas, executando a média e contagem crescente de 5 linhas em 'Rating'.\n",
        "media = base_2[['Movie_Id','Rating']].groupby('Movie_Id').mean().sort_values(by='Rating',ascending=False).head(5)\n",
        "\n",
        "# Na variável top_five está a junção das tabelas (base_1 e media) para extrair os valores procurados de 'Movie_Year'.\n",
        "top_five = pd.merge(base_1, media, how = 'inner', on = 'Movie_Id')['Movie_Year']"
      ],
      "id": "9acc1a6c"
    },
    {
      "cell_type": "code",
      "source": [
        "print (\"Os 5 filmes com melhores médias de avaliação são:\",\"\\n\",\"\\n\", top_five)"
      ],
      "metadata": {
        "id": "BmHD0OH-T1GQ",
        "colab": {
          "base_uri": "https://localhost:8080/"
        },
        "outputId": "76cab85e-3dd1-4d42-bba8-1d87e7de60cc"
      },
      "id": "BmHD0OH-T1GQ",
      "execution_count": 9,
      "outputs": [
        {
          "output_type": "stream",
          "name": "stdout",
          "text": [
            "Os 5 filmes com melhores médias de avaliação são: \n",
            " \n",
            " 0    (Lord of the Rings: The Return of the King: Ex...\n",
            "1                       (The Simpsons: Season 6, 1994)\n",
            "2    (Ghost in the Shell: Stand Alone Complex: 2nd ...\n",
            "3                               (Lost: Season 1, 2004)\n",
            "4                                    (Inu-Yasha, 2000)\n",
            "Name: Movie_Year, dtype: object\n"
          ]
        }
      ]
    },
    {
      "cell_type": "markdown",
      "source": [
        "---"
      ],
      "metadata": {
        "id": "XYAEmjier8cn"
      },
      "id": "XYAEmjier8cn"
    },
    {
      "cell_type": "markdown",
      "source": [
        "*1.3. Quais os 5 anos com menos lançamentos de filmes?*"
      ],
      "metadata": {
        "id": "1FRL50SAr29E"
      },
      "id": "1FRL50SAr29E"
    },
    {
      "cell_type": "code",
      "source": [
        "# Criando uma nova variavel, separando o nome dos filme e o ano de  lançamento\n",
        "new = base_1[\"Movie_Year\"].str.split(\", \",n=1, expand=True)\n",
        "base_1['Movie'] = new[0]\n",
        "base_1['Movie_Year'] = new[1]\n",
        "\n",
        "# Executando um apply para retirar os parentes.\n",
        "base_1['Movie_Year'] = base_1['Movie_Year'].apply(lambda x: str(x).replace(\")\",\" \"))\n",
        "base_1['Movie'] = base_1['Movie'].apply(lambda x: str(x).replace(\"(\",\" \"))\n",
        "\n",
        "# Convertendo 'Movie_Year'(str) para inteiro (int).\n",
        "base_1['Movie_Year'] = pd.to_numeric(base_1['Movie_Year'])"
      ],
      "metadata": {
        "id": "r_9JvWH0vRgn"
      },
      "id": "r_9JvWH0vRgn",
      "execution_count": 10,
      "outputs": []
    },
    {
      "cell_type": "code",
      "execution_count": 11,
      "metadata": {
        "id": "45b08dfc",
        "colab": {
          "base_uri": "https://localhost:8080/"
        },
        "outputId": "441ec959-6d35-4c2d-a43b-899765dd84ba"
      },
      "outputs": [
        {
          "output_type": "stream",
          "name": "stdout",
          "text": [
            "Os 5 anos com menos lançamentos foram:  \n",
            " Movie_Year\n",
            "1915    1\n",
            "1916    2\n",
            "1917    1\n",
            "1918    2\n",
            "1920    3\n",
            "Name: Movie_Id, dtype: int64\n"
          ]
        }
      ],
      "source": [
        "freq = base_1.groupby(['Movie_Year']).count().head(5)\n",
        "print('Os 5 anos com menos lançamentos foram: ','\\n', freq['Movie_Id']) "
      ],
      "id": "45b08dfc"
    },
    {
      "cell_type": "markdown",
      "source": [
        "---"
      ],
      "metadata": {
        "id": "E2737HwsAdpb"
      },
      "id": "E2737HwsAdpb"
    },
    {
      "cell_type": "markdown",
      "source": [
        "*1.4. Quantos filmes que possuem avaliação maior ou igual a 4.7, considerando apenas os\n",
        "filmes avaliados na última data de avaliação do dataset?*"
      ],
      "metadata": {
        "id": "vqHHqIMSBADy"
      },
      "id": "vqHHqIMSBADy"
    },
    {
      "cell_type": "code",
      "source": [
        "# Variável 'ult_data' encontrando a última data de avaliação do dataset.\n",
        "ult_data = base_2.sort_values(by='Date', ascending = False).head(1)\n",
        "ult_data = ult_data['Date']"
      ],
      "metadata": {
        "id": "EVv9iXjFX6OP"
      },
      "id": "EVv9iXjFX6OP",
      "execution_count": 12,
      "outputs": []
    },
    {
      "cell_type": "code",
      "source": [
        "# Fazendo um merge da base_2 com a variável encontrada na célula anterior.\n",
        "join_data = pd.merge(base_2, ult_data, left_on='Date', right_on='Date')"
      ],
      "metadata": {
        "id": "T351edBBbppK"
      },
      "id": "T351edBBbppK",
      "execution_count": 13,
      "outputs": []
    },
    {
      "cell_type": "code",
      "source": [
        "# Variável 'data_rat' criada para encontrar a média das notas na última data.\n",
        "data_rat = join_data.groupby(['Movie_Id'], as_index=False)['Rating'].mean()\n",
        "data_rat = data_rat.sort_values(by='Rating',ascending=False)"
      ],
      "metadata": {
        "id": "fNkdo4yNeS7C"
      },
      "id": "fNkdo4yNeS7C",
      "execution_count": 14,
      "outputs": []
    },
    {
      "cell_type": "code",
      "source": [
        "# Filtrando apenas os filmes que possuem media maior ou igual a 4.7.\n",
        "dez_primeiros = data_rat.loc[data_rat['Rating'] >= 4.7]['Movie_Id'].count()"
      ],
      "metadata": {
        "id": "dZNmDFUBPS4K"
      },
      "execution_count": 15,
      "outputs": [],
      "id": "dZNmDFUBPS4K"
    },
    {
      "cell_type": "code",
      "source": [
        "print(\"São\",dez_primeiros, \"filmes com notas maiores ou iguais a 4.7 na última data do dataset.\")"
      ],
      "metadata": {
        "id": "nJML6ondTjlK",
        "colab": {
          "base_uri": "https://localhost:8080/"
        },
        "outputId": "c2fbe176-17cc-49ce-db02-9e75595f8b25"
      },
      "id": "nJML6ondTjlK",
      "execution_count": 16,
      "outputs": [
        {
          "output_type": "stream",
          "name": "stdout",
          "text": [
            "São 195 filmes com notas maiores ou iguais a 4.7 na última data do dataset.\n"
          ]
        }
      ]
    },
    {
      "cell_type": "markdown",
      "source": [
        "---"
      ],
      "metadata": {
        "id": "Ky6pvkSvK7eP"
      },
      "id": "Ky6pvkSvK7eP"
    },
    {
      "cell_type": "markdown",
      "source": [
        "*1.5. Dos filmes encontrados na questão anterior, quais são os 10 filmes com as piores notas e\n",
        "quais as notas?*"
      ],
      "metadata": {
        "id": "zPZEjIggpzs5"
      },
      "id": "zPZEjIggpzs5"
    },
    {
      "cell_type": "code",
      "source": [
        "# Váriavel criada com base no resiltado da pergunta anterior, apenas invertendo a sequência.\n",
        "\n",
        "dez_ultimos = data_rat.loc[data_rat['Rating'] >= 4.7].sort_values(by='Rating', ascending = True)"
      ],
      "metadata": {
        "id": "GF2-6CPYX6Wo"
      },
      "execution_count": 17,
      "outputs": [],
      "id": "GF2-6CPYX6Wo"
    },
    {
      "cell_type": "code",
      "source": [
        "# Junção da variável anterior com base_1 para retirar as notas e o nome dos filmes.\n",
        "dez_ultimos = pd.merge(dez_ultimos, base_1, left_on='Movie_Id', right_on='Movie_Id').head(10)"
      ],
      "metadata": {
        "id": "InTYStf6QUen"
      },
      "id": "InTYStf6QUen",
      "execution_count": 18,
      "outputs": []
    },
    {
      "cell_type": "code",
      "execution_count": 19,
      "metadata": {
        "id": "a155eac7",
        "colab": {
          "base_uri": "https://localhost:8080/"
        },
        "outputId": "1312ec3f-5d26-46bc-bcda-f5f11f0d3b3d"
      },
      "outputs": [
        {
          "output_type": "stream",
          "name": "stdout",
          "text": [
            "Dos filmes encontrados na questão anterior, os 10 filmes com as piores notas são:  \n",
            "    Movie_Id    Rating  Movie_Year                             Movie\n",
            "0      3446  4.714286        2002                     Spirited Away\n",
            "1      3551  4.750000        1977                     Pete's Dragon\n",
            "2      4409  4.750000        2002   SpongeBob SquarePants: Season 3\n",
            "3      1947  4.750000        2002           Gilmore Girls: Season 3\n",
            "4      2585  4.750000        1994     Absolutely Fabulous: Series 2\n",
            "5      1208  4.750000        1963        The Twilight Zone: Vol. 15\n",
            "6      1800  4.750000        2002       An Evening With Kevin Smith\n",
            "7      2129  4.750000        1960        The Twilight Zone: Vol. 41\n",
            "8      4353  4.800000        2002    Curb Your Enthusiasm: Season 3\n",
            "9       677  4.800000        2001              In the Mood for Love\n"
          ]
        }
      ],
      "source": [
        "print(\"Dos filmes encontrados na questão anterior, os 10 filmes com as piores notas são: \",\"\\n\",dez_ultimos)"
      ],
      "id": "a155eac7"
    },
    {
      "cell_type": "markdown",
      "source": [
        "---"
      ],
      "metadata": {
        "id": "HmbSBDHkr2Oa"
      },
      "id": "HmbSBDHkr2Oa"
    },
    {
      "cell_type": "markdown",
      "source": [
        "*1.6. Quais os id's dos 5 customer que mais avaliaram filmes e quantas avaliações cada um\n",
        "fez?*"
      ],
      "metadata": {
        "id": "nbqHmKz2rwS4"
      },
      "id": "nbqHmKz2rwS4"
    },
    {
      "cell_type": "code",
      "execution_count": 20,
      "metadata": {
        "id": "7173657e",
        "colab": {
          "base_uri": "https://localhost:8080/"
        },
        "outputId": "9cc00fe8-5b60-47ed-cb86-33c6dc3c42a9"
      },
      "outputs": [
        {
          "output_type": "stream",
          "name": "stdout",
          "text": [
            "Os 5 customer com mais mais avaliações de filmes são:  \n",
            " Cust_Id\n",
            "305344     4467\n",
            "387418     4422\n",
            "2439493    4195\n",
            "1664010    4019\n",
            "2118461    3769\n",
            "dtype: int64\n"
          ]
        }
      ],
      "source": [
        " # Na variável 'customers' faço um agrupamento de  'Cust_Id' contando os votos em ordem crescente das 5 primeiras linhas.\n",
        "customers = base_2.groupby(['Cust_Id']).size().sort_values(ascending=False).head()\n",
        "\n",
        "print(\"Os 5 customer com mais mais avaliações de filmes são: \",\"\\n\", customers)\n"
      ],
      "id": "7173657e"
    },
    {
      "cell_type": "markdown",
      "source": [
        "---"
      ],
      "metadata": {
        "id": "JUB8vtShPEYU"
      },
      "id": "JUB8vtShPEYU"
    }
  ],
  "metadata": {
    "colab": {
      "collapsed_sections": [],
      "name": "Hoje graças  a  Deus deu  certo.ipynb",
      "provenance": [],
      "include_colab_link": true
    },
    "kernelspec": {
      "display_name": "Python 3",
      "language": "python",
      "name": "python3"
    },
    "language_info": {
      "codemirror_mode": {
        "name": "ipython",
        "version": 3
      },
      "file_extension": ".py",
      "mimetype": "text/x-python",
      "name": "python",
      "nbconvert_exporter": "python",
      "pygments_lexer": "ipython3",
      "version": "3.8.8"
    }
  },
  "nbformat": 4,
  "nbformat_minor": 5
}